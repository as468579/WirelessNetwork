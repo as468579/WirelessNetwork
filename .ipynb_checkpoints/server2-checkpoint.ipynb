{
 "cells": [
  {
   "cell_type": "code",
   "execution_count": null,
   "metadata": {},
   "outputs": [
    {
     "name": "stdout",
     "output_type": "stream",
     "text": [
      "connect\n",
      "Connected by ('192.168.40.127', 53315)\n"
     ]
    }
   ],
   "source": [
    "import socket, threading\n",
    "import base64\n",
    "from PIL import Image\n",
    "from io import BytesIO\n",
    "\n",
    "class OneClient(threading.Thread):\n",
    "    \n",
    "    def __init__(self, conn, addr):\n",
    "        threading.Thread.__init__(self)\n",
    "        self._conn = conn\n",
    "        self._addr = addr\n",
    "        \n",
    "    def send(self, data):\n",
    "        try:\n",
    "            self._conn.sendall(data)\n",
    "        except socket.error as msg:\n",
    "            self.close()\n",
    "            \n",
    "    def close(self):\n",
    "        print(\"not close1\")\n",
    "        self._conn.close()\n",
    "        print(\"not close\")\n",
    "        print(\"Disconnected by {}\".format(self._addr))\n",
    "        \n",
    "    def run(self):\n",
    "        data2=b\"\"\n",
    "        path=\"\"\n",
    "        count = 0\n",
    "\n",
    "        while True:\n",
    "            data = self._conn.recv(4096)\n",
    "            data2=b\"\".join([data2, data])\n",
    "            if not data:\n",
    "                count += 1\n",
    "                if count == 1000:\n",
    "                    break\n",
    "        path = '/Users/labmvn/Desktop/WN/test'\n",
    "        print(data2)\n",
    "#         im = Image.open(BytesIO(base64.b64decode(data2)))\n",
    "#         im.show()\n",
    "#         im.save(path+'.jpg', 'JPEG')\n",
    "            \n",
    "s = socket.socket()\n",
    "s.bind(('', 100))\n",
    "s.listen(5)\n",
    "\n",
    "while True:\n",
    "    conn, addr = s.accept()\n",
    "    print(\"connect\")\n",
    "    print(\"Connected by {}\".format(addr))\n",
    "    OneClient(conn, addr).start()\n"
   ]
  },
  {
   "cell_type": "code",
   "execution_count": null,
   "metadata": {},
   "outputs": [],
   "source": []
  },
  {
   "cell_type": "code",
   "execution_count": null,
   "metadata": {},
   "outputs": [],
   "source": []
  }
 ],
 "metadata": {
  "kernelspec": {
   "display_name": "Python 3",
   "language": "python",
   "name": "python3"
  },
  "language_info": {
   "codemirror_mode": {
    "name": "ipython",
    "version": 3
   },
   "file_extension": ".py",
   "mimetype": "text/x-python",
   "name": "python",
   "nbconvert_exporter": "python",
   "pygments_lexer": "ipython3",
   "version": "3.7.4"
  }
 },
 "nbformat": 4,
 "nbformat_minor": 2
}
